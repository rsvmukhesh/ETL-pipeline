{
 "cells": [
  {
   "cell_type": "code",
   "execution_count": 1,
   "id": "863bd8bf",
   "metadata": {},
   "outputs": [
    {
     "name": "stdout",
     "output_type": "stream",
     "text": [
      "Collecting spotipy\n",
      "  Downloading spotipy-2.25.0-py3-none-any.whl (30 kB)\n",
      "Collecting redis>=3.5.3\n",
      "  Downloading redis-5.2.1-py3-none-any.whl (261 kB)\n",
      "     ---------------------------------------- 261.5/261.5 kB ? eta 0:00:00\n",
      "Requirement already satisfied: requests>=2.25.0 in c:\\users\\rsvmu\\anaconda3\\lib\\site-packages (from spotipy) (2.28.2)\n",
      "Requirement already satisfied: urllib3>=1.26.0 in c:\\users\\rsvmu\\anaconda3\\lib\\site-packages (from spotipy) (1.26.4)\n",
      "Requirement already satisfied: async-timeout>=4.0.3 in c:\\users\\rsvmu\\anaconda3\\lib\\site-packages (from redis>=3.5.3->spotipy) (4.0.3)\n",
      "Requirement already satisfied: certifi>=2017.4.17 in c:\\users\\rsvmu\\anaconda3\\lib\\site-packages (from requests>=2.25.0->spotipy) (2020.12.5)\n",
      "Requirement already satisfied: idna<4,>=2.5 in c:\\users\\rsvmu\\anaconda3\\lib\\site-packages (from requests>=2.25.0->spotipy) (2.10)\n",
      "Requirement already satisfied: charset-normalizer<4,>=2 in c:\\users\\rsvmu\\anaconda3\\lib\\site-packages (from requests>=2.25.0->spotipy) (3.1.0)\n",
      "Installing collected packages: redis, spotipy\n",
      "Successfully installed redis-5.2.1 spotipy-2.25.0\n"
     ]
    },
    {
     "name": "stderr",
     "output_type": "stream",
     "text": [
      "Error processing line 1 of C:\\Users\\rsvmu\\anaconda3\\lib\\site-packages\\vision-1.0.0-py3.8-nspkg.pth:\n",
      "\n",
      "  Traceback (most recent call last):\n",
      "    File \"C:\\Users\\rsvmu\\anaconda3\\lib\\site.py\", line 169, in addpackage\n",
      "      exec(line)\n",
      "    File \"<string>\", line 1, in <module>\n",
      "    File \"<frozen importlib._bootstrap>\", line 553, in module_from_spec\n",
      "  AttributeError: 'NoneType' object has no attribute 'loader'\n",
      "\n",
      "Remainder of file ignored\n",
      "WARNING: Ignoring invalid distribution -rotobuf (c:\\users\\rsvmu\\anaconda3\\lib\\site-packages)\n",
      "WARNING: Ignoring invalid distribution -rotobuf (c:\\users\\rsvmu\\anaconda3\\lib\\site-packages)\n",
      "WARNING: Ignoring invalid distribution -rotobuf (c:\\users\\rsvmu\\anaconda3\\lib\\site-packages)\n",
      "WARNING: Ignoring invalid distribution -rotobuf (c:\\users\\rsvmu\\anaconda3\\lib\\site-packages)\n",
      "WARNING: Ignoring invalid distribution -rotobuf (c:\\users\\rsvmu\\anaconda3\\lib\\site-packages)\n",
      "WARNING: Ignoring invalid distribution -rotobuf (c:\\users\\rsvmu\\anaconda3\\lib\\site-packages)\n",
      "WARNING: Ignoring invalid distribution -rotobuf (c:\\users\\rsvmu\\anaconda3\\lib\\site-packages)\n",
      "WARNING: Ignoring invalid distribution -rotobuf (c:\\users\\rsvmu\\anaconda3\\lib\\site-packages)\n",
      "\n",
      "[notice] A new release of pip is available: 23.0.1 -> 24.3.1\n",
      "[notice] To update, run: python.exe -m pip install --upgrade pip\n"
     ]
    }
   ],
   "source": [
    "!pip install spotipy"
   ]
  },
  {
   "cell_type": "code",
   "execution_count": 2,
   "id": "0378afca",
   "metadata": {},
   "outputs": [],
   "source": [
    "import spotipy \n",
    "from spotipy.oauth2 import SpotifyClientCredentials"
   ]
  },
  {
   "cell_type": "code",
   "execution_count": 3,
   "id": "10806526",
   "metadata": {},
   "outputs": [],
   "source": [
    "client_credentials_manager = SpotifyClientCredentials(client_id=\"cc4e24fec51944068f282c5d0910bffe\", client_secret = \"651e726771d746d181cce136f79f7306\")"
   ]
  },
  {
   "cell_type": "code",
   "execution_count": 4,
   "id": "5ae5cfc1",
   "metadata": {},
   "outputs": [],
   "source": [
    "sp = spotipy.Spotify(client_credentials_manager = client_credentials_manager)"
   ]
  },
  {
   "cell_type": "markdown",
   "id": "ca4a3e4a",
   "metadata": {},
   "source": [
    "# Raw Analysis"
   ]
  },
  {
   "cell_type": "code",
   "execution_count": 11,
   "id": "163eb624",
   "metadata": {},
   "outputs": [],
   "source": [
    "playlist_link = \"https://open.spotify.com/playlist/5ABHKGoOzxkaa28ttQV9sE\""
   ]
  },
  {
   "cell_type": "code",
   "execution_count": 12,
   "id": "6d532cba",
   "metadata": {},
   "outputs": [],
   "source": [
    "playlist_uri = playlist_link.split(\"/\")[-1]"
   ]
  },
  {
   "cell_type": "code",
   "execution_count": 14,
   "id": "a28ceb14",
   "metadata": {},
   "outputs": [],
   "source": [
    "data = sp.playlist_tracks(playlist_uri)"
   ]
  },
  {
   "cell_type": "markdown",
   "id": "69693671",
   "metadata": {},
   "source": [
    "\n",
    "## All Albums list"
   ]
  },
  {
   "cell_type": "code",
   "execution_count": 18,
   "id": "1ead6e67",
   "metadata": {},
   "outputs": [],
   "source": [
    "album_list=[]\n",
    "for row in data['items']:\n",
    "    album_id=row['track']['album']['id']\n",
    "    album_name=row['track']['album']['name']\n",
    "    album_release_date=row['track']['album']['release_date']\n",
    "    album_total_tracks=row['track']['album']['total_tracks']\n",
    "    album_url=row['track']['album']['external_urls']['spotify']\n",
    "    album_element={'album_id':album_id,'album_name':album_name,\n",
    "                  'album_release_date':album_release_date,\n",
    "                  'album_total_tracks':album_total_tracks,'album_url':album_url}\n",
    "    album_list.append(album_element)"
   ]
  },
  {
   "cell_type": "markdown",
   "id": "3dd69ac1",
   "metadata": {},
   "source": [
    "## All Artisits list"
   ]
  },
  {
   "cell_type": "code",
   "execution_count": 21,
   "id": "f54c2419",
   "metadata": {},
   "outputs": [],
   "source": [
    "artist_list=[]\n",
    "for row in data['items']:\n",
    "    for key,value in row.items():\n",
    "        if key==\"track\":\n",
    "            for artist in value['artists']:\n",
    "                artist_dict={'artist_id':artist['id'], 'artist_name':artist['name'], \n",
    "                 'external_url':artist['href'],}\n",
    "                artist_list.append(artist_dict)\n"
   ]
  },
  {
   "cell_type": "markdown",
   "id": "ad86ce41",
   "metadata": {},
   "source": [
    "## All Songs list"
   ]
  },
  {
   "cell_type": "code",
   "execution_count": 22,
   "id": "685cf99b",
   "metadata": {},
   "outputs": [],
   "source": [
    "song_list = []\n",
    "for row in data['items']:\n",
    "    song_id = row['track']['id']\n",
    "    song_name = row['track']['name']\n",
    "    song_duration = row['track']['duration_ms']\n",
    "    song_url = row['track']['external_urls']['spotify']\n",
    "    song_popularity = row['track']['popularity']\n",
    "    song_added = row['added_at']\n",
    "    album_id = row['track']['album']['id']\n",
    "    artist_id = row['track']['album']['artists'][0]['id']\n",
    "    song_element = {'song_id':song_id,'song_name':song_name,'duration_ms':song_duration,\n",
    "                    'url':song_url,'popularity':song_popularity,'song_added':song_added,\n",
    "                    'album_id':album_id,'artist_id':artist_id}\n",
    "    song_list.append(song_element)"
   ]
  },
  {
   "cell_type": "code",
   "execution_count": 23,
   "id": "e9c93784",
   "metadata": {},
   "outputs": [],
   "source": [
    "import pandas as pd"
   ]
  },
  {
   "cell_type": "code",
   "execution_count": 24,
   "id": "ea61b179",
   "metadata": {},
   "outputs": [],
   "source": [
    "album_df = pd.DataFrame.from_dict(album_list)"
   ]
  },
  {
   "cell_type": "code",
   "execution_count": 25,
   "id": "9447c672",
   "metadata": {},
   "outputs": [
    {
     "data": {
      "text/html": [
       "<div>\n",
       "<style scoped>\n",
       "    .dataframe tbody tr th:only-of-type {\n",
       "        vertical-align: middle;\n",
       "    }\n",
       "\n",
       "    .dataframe tbody tr th {\n",
       "        vertical-align: top;\n",
       "    }\n",
       "\n",
       "    .dataframe thead th {\n",
       "        text-align: right;\n",
       "    }\n",
       "</style>\n",
       "<table border=\"1\" class=\"dataframe\">\n",
       "  <thead>\n",
       "    <tr style=\"text-align: right;\">\n",
       "      <th></th>\n",
       "      <th>album_id</th>\n",
       "      <th>album_name</th>\n",
       "      <th>album_release_date</th>\n",
       "      <th>album_total_tracks</th>\n",
       "      <th>album_url</th>\n",
       "    </tr>\n",
       "  </thead>\n",
       "  <tbody>\n",
       "    <tr>\n",
       "      <th>0</th>\n",
       "      <td>4yP0hdKOZPNshxUOjY0cZj</td>\n",
       "      <td>After Hours</td>\n",
       "      <td>2020-03-20</td>\n",
       "      <td>14</td>\n",
       "      <td>https://open.spotify.com/album/4yP0hdKOZPNshxU...</td>\n",
       "    </tr>\n",
       "    <tr>\n",
       "      <th>1</th>\n",
       "      <td>3T4tUhGYeRNVUGevb0wThu</td>\n",
       "      <td>÷ (Deluxe)</td>\n",
       "      <td>2017-03-03</td>\n",
       "      <td>16</td>\n",
       "      <td>https://open.spotify.com/album/3T4tUhGYeRNVUGe...</td>\n",
       "    </tr>\n",
       "    <tr>\n",
       "      <th>2</th>\n",
       "      <td>5658aM19fA3JVwTK6eQX70</td>\n",
       "      <td>Divinely Uninspired To A Hellish Extent</td>\n",
       "      <td>2019-05-17</td>\n",
       "      <td>12</td>\n",
       "      <td>https://open.spotify.com/album/5658aM19fA3JVwT...</td>\n",
       "    </tr>\n",
       "    <tr>\n",
       "      <th>3</th>\n",
       "      <td>5r36AJ6VOJtp00oxSkBZ5h</td>\n",
       "      <td>Harry's House</td>\n",
       "      <td>2022-05-20</td>\n",
       "      <td>13</td>\n",
       "      <td>https://open.spotify.com/album/5r36AJ6VOJtp00o...</td>\n",
       "    </tr>\n",
       "    <tr>\n",
       "      <th>4</th>\n",
       "      <td>09fggMHib4YkOtwQNXEBII</td>\n",
       "      <td>Starboy</td>\n",
       "      <td>2016-11-25</td>\n",
       "      <td>18</td>\n",
       "      <td>https://open.spotify.com/album/09fggMHib4YkOtw...</td>\n",
       "    </tr>\n",
       "  </tbody>\n",
       "</table>\n",
       "</div>"
      ],
      "text/plain": [
       "                 album_id                               album_name  \\\n",
       "0  4yP0hdKOZPNshxUOjY0cZj                              After Hours   \n",
       "1  3T4tUhGYeRNVUGevb0wThu                               ÷ (Deluxe)   \n",
       "2  5658aM19fA3JVwTK6eQX70  Divinely Uninspired To A Hellish Extent   \n",
       "3  5r36AJ6VOJtp00oxSkBZ5h                            Harry's House   \n",
       "4  09fggMHib4YkOtwQNXEBII                                  Starboy   \n",
       "\n",
       "  album_release_date  album_total_tracks  \\\n",
       "0         2020-03-20                  14   \n",
       "1         2017-03-03                  16   \n",
       "2         2019-05-17                  12   \n",
       "3         2022-05-20                  13   \n",
       "4         2016-11-25                  18   \n",
       "\n",
       "                                           album_url  \n",
       "0  https://open.spotify.com/album/4yP0hdKOZPNshxU...  \n",
       "1  https://open.spotify.com/album/3T4tUhGYeRNVUGe...  \n",
       "2  https://open.spotify.com/album/5658aM19fA3JVwT...  \n",
       "3  https://open.spotify.com/album/5r36AJ6VOJtp00o...  \n",
       "4  https://open.spotify.com/album/09fggMHib4YkOtw...  "
      ]
     },
     "execution_count": 25,
     "metadata": {},
     "output_type": "execute_result"
    }
   ],
   "source": [
    "album_df.head()"
   ]
  },
  {
   "cell_type": "code",
   "execution_count": 26,
   "id": "1ac6c10c",
   "metadata": {},
   "outputs": [],
   "source": [
    "album_df = album_df.drop_duplicates(subset=['album_id'])"
   ]
  },
  {
   "cell_type": "code",
   "execution_count": 27,
   "id": "8deedb04",
   "metadata": {},
   "outputs": [],
   "source": [
    "artist_df = pd.DataFrame.from_dict(artist_list)"
   ]
  },
  {
   "cell_type": "code",
   "execution_count": 28,
   "id": "d1bc7462",
   "metadata": {},
   "outputs": [],
   "source": [
    "artist_df = artist_df.drop_duplicates(subset=['artist_id'])"
   ]
  },
  {
   "cell_type": "code",
   "execution_count": 29,
   "id": "d639e68a",
   "metadata": {},
   "outputs": [],
   "source": [
    "song_df = pd.DataFrame.from_dict(song_list)"
   ]
  },
  {
   "cell_type": "code",
   "execution_count": 30,
   "id": "e900a2be",
   "metadata": {},
   "outputs": [
    {
     "data": {
      "text/html": [
       "<div>\n",
       "<style scoped>\n",
       "    .dataframe tbody tr th:only-of-type {\n",
       "        vertical-align: middle;\n",
       "    }\n",
       "\n",
       "    .dataframe tbody tr th {\n",
       "        vertical-align: top;\n",
       "    }\n",
       "\n",
       "    .dataframe thead th {\n",
       "        text-align: right;\n",
       "    }\n",
       "</style>\n",
       "<table border=\"1\" class=\"dataframe\">\n",
       "  <thead>\n",
       "    <tr style=\"text-align: right;\">\n",
       "      <th></th>\n",
       "      <th>song_id</th>\n",
       "      <th>song_name</th>\n",
       "      <th>duration_ms</th>\n",
       "      <th>url</th>\n",
       "      <th>popularity</th>\n",
       "      <th>song_added</th>\n",
       "      <th>album_id</th>\n",
       "      <th>artist_id</th>\n",
       "    </tr>\n",
       "  </thead>\n",
       "  <tbody>\n",
       "    <tr>\n",
       "      <th>0</th>\n",
       "      <td>0VjIjW4GlUZAMYd2vXMi3b</td>\n",
       "      <td>Blinding Lights</td>\n",
       "      <td>200040</td>\n",
       "      <td>https://open.spotify.com/track/0VjIjW4GlUZAMYd...</td>\n",
       "      <td>87</td>\n",
       "      <td>2024-02-15T21:57:53Z</td>\n",
       "      <td>4yP0hdKOZPNshxUOjY0cZj</td>\n",
       "      <td>1Xyo4u8uXC1ZmMpatF05PJ</td>\n",
       "    </tr>\n",
       "    <tr>\n",
       "      <th>1</th>\n",
       "      <td>7qiZfU4dY1lWllzX7mPBI3</td>\n",
       "      <td>Shape of You</td>\n",
       "      <td>233712</td>\n",
       "      <td>https://open.spotify.com/track/7qiZfU4dY1lWllz...</td>\n",
       "      <td>85</td>\n",
       "      <td>2024-02-15T21:57:53Z</td>\n",
       "      <td>3T4tUhGYeRNVUGevb0wThu</td>\n",
       "      <td>6eUKZXaKkcviH0Ku9w2n3V</td>\n",
       "    </tr>\n",
       "    <tr>\n",
       "      <th>2</th>\n",
       "      <td>7qEHsqek33rTcFNT9PFqLf</td>\n",
       "      <td>Someone You Loved</td>\n",
       "      <td>182160</td>\n",
       "      <td>https://open.spotify.com/track/7qEHsqek33rTcFN...</td>\n",
       "      <td>85</td>\n",
       "      <td>2024-02-15T21:57:53Z</td>\n",
       "      <td>5658aM19fA3JVwTK6eQX70</td>\n",
       "      <td>4GNC7GD6oZMSxPGyXy4MNB</td>\n",
       "    </tr>\n",
       "    <tr>\n",
       "      <th>3</th>\n",
       "      <td>4Dvkj6JhhA12EX05fT7y2e</td>\n",
       "      <td>As It Was</td>\n",
       "      <td>167303</td>\n",
       "      <td>https://open.spotify.com/track/4Dvkj6JhhA12EX0...</td>\n",
       "      <td>86</td>\n",
       "      <td>2024-02-15T21:57:53Z</td>\n",
       "      <td>5r36AJ6VOJtp00oxSkBZ5h</td>\n",
       "      <td>6KImCVD70vtIoJWnq6nGn3</td>\n",
       "    </tr>\n",
       "    <tr>\n",
       "      <th>4</th>\n",
       "      <td>5aAx2yezTd8zXrkmtKl66Z</td>\n",
       "      <td>Starboy</td>\n",
       "      <td>230453</td>\n",
       "      <td>https://open.spotify.com/track/5aAx2yezTd8zXrk...</td>\n",
       "      <td>2</td>\n",
       "      <td>2024-02-15T21:57:53Z</td>\n",
       "      <td>09fggMHib4YkOtwQNXEBII</td>\n",
       "      <td>1Xyo4u8uXC1ZmMpatF05PJ</td>\n",
       "    </tr>\n",
       "  </tbody>\n",
       "</table>\n",
       "</div>"
      ],
      "text/plain": [
       "                  song_id          song_name  duration_ms  \\\n",
       "0  0VjIjW4GlUZAMYd2vXMi3b    Blinding Lights       200040   \n",
       "1  7qiZfU4dY1lWllzX7mPBI3       Shape of You       233712   \n",
       "2  7qEHsqek33rTcFNT9PFqLf  Someone You Loved       182160   \n",
       "3  4Dvkj6JhhA12EX05fT7y2e          As It Was       167303   \n",
       "4  5aAx2yezTd8zXrkmtKl66Z            Starboy       230453   \n",
       "\n",
       "                                                 url  popularity  \\\n",
       "0  https://open.spotify.com/track/0VjIjW4GlUZAMYd...          87   \n",
       "1  https://open.spotify.com/track/7qiZfU4dY1lWllz...          85   \n",
       "2  https://open.spotify.com/track/7qEHsqek33rTcFN...          85   \n",
       "3  https://open.spotify.com/track/4Dvkj6JhhA12EX0...          86   \n",
       "4  https://open.spotify.com/track/5aAx2yezTd8zXrk...           2   \n",
       "\n",
       "             song_added                album_id               artist_id  \n",
       "0  2024-02-15T21:57:53Z  4yP0hdKOZPNshxUOjY0cZj  1Xyo4u8uXC1ZmMpatF05PJ  \n",
       "1  2024-02-15T21:57:53Z  3T4tUhGYeRNVUGevb0wThu  6eUKZXaKkcviH0Ku9w2n3V  \n",
       "2  2024-02-15T21:57:53Z  5658aM19fA3JVwTK6eQX70  4GNC7GD6oZMSxPGyXy4MNB  \n",
       "3  2024-02-15T21:57:53Z  5r36AJ6VOJtp00oxSkBZ5h  6KImCVD70vtIoJWnq6nGn3  \n",
       "4  2024-02-15T21:57:53Z  09fggMHib4YkOtwQNXEBII  1Xyo4u8uXC1ZmMpatF05PJ  "
      ]
     },
     "execution_count": 30,
     "metadata": {},
     "output_type": "execute_result"
    }
   ],
   "source": [
    "song_df.head()"
   ]
  },
  {
   "cell_type": "code",
   "execution_count": 31,
   "id": "c36a7fdb",
   "metadata": {},
   "outputs": [],
   "source": [
    "album_df['album_release_date'] = pd.to_datetime(album_df['album_release_date'])"
   ]
  },
  {
   "cell_type": "code",
   "execution_count": 32,
   "id": "e27b3c86",
   "metadata": {},
   "outputs": [],
   "source": [
    "song_df['song_added'] =  pd.to_datetime(song_df['song_added'])"
   ]
  },
  {
   "cell_type": "code",
   "execution_count": null,
   "id": "00b53b9c",
   "metadata": {},
   "outputs": [],
   "source": []
  }
 ],
 "metadata": {
  "kernelspec": {
   "display_name": "Python 3",
   "language": "python",
   "name": "python3"
  },
  "language_info": {
   "codemirror_mode": {
    "name": "ipython",
    "version": 3
   },
   "file_extension": ".py",
   "mimetype": "text/x-python",
   "name": "python",
   "nbconvert_exporter": "python",
   "pygments_lexer": "ipython3",
   "version": "3.8.8"
  }
 },
 "nbformat": 4,
 "nbformat_minor": 5
}
